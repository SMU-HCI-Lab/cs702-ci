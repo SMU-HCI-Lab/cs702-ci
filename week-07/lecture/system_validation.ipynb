{
 "cells": [
  {
   "cell_type": "code",
   "execution_count": 15,
   "metadata": {},
   "outputs": [],
   "source": [
    "import numpy as np\n",
    "\n",
    "from typing import List"
   ]
  },
  {
   "cell_type": "code",
   "execution_count": 16,
   "metadata": {},
   "outputs": [],
   "source": [
    "A = np.array([\n",
    "    [0.1, 0.6, 0.2, 0.0, 0.1],  # Browsing\n",
    "    [0.4, 0.4, 0.1, 0.1, 0.0],  # Engaged\n",
    "    [0.3, 0.0, 0.4, 0.0, 0.3],  # Disengaged\n",
    "    [0.5, 0.3, 0.0, 0.2, 0.0],  # Converted\n",
    "    [0.5, 0.0, 0.0, 0.0, 0.5],  # Abandoned\n",
    "])"
   ]
  },
  {
   "cell_type": "code",
   "execution_count": 17,
   "metadata": {},
   "outputs": [
    {
     "name": "stdout",
     "output_type": "stream",
     "text": [
      "=== Trajectory: ===\n",
      "Step 0: Browsing\n",
      "Step 1: Engaged\n",
      "Step 2: Engaged\n",
      "Step 3: Converted\n",
      "Step 4: Converted\n"
     ]
    }
   ],
   "source": [
    "\n",
    "\n",
    "states = [0, 1, 2, 3, 4]\n",
    "state_names = [\"Browsing\", \"Engaged\", \"Disengaged\", \"Converted\", \"Abandoned\"]\n",
    "\n",
    "def rollout(\n",
    "        ini_state: int, \n",
    "        transition_matrix: np.ndarray,\n",
    "        episode_length: int = 4,        \n",
    "    ) -> List[int]:\n",
    "    \"\"\"Sample a trajectory from a Markov chain.\"\"\"\n",
    "    traj = [ini_state]\n",
    "    for _ in range(episode_length):\n",
    "        p = transition_matrix[ini_state]\n",
    "        ini_state = np.random.choice(states, p=p)\n",
    "        traj.append(ini_state)\n",
    "    return traj\n",
    "\n",
    "traj = rollout(0, A)\n",
    "\n",
    "print(\"=== Trajectory: ===\")\n",
    "for i, x in enumerate(traj):\n",
    "    print(f\"Step {i}: {state_names[x]}\")\n"
   ]
  },
  {
   "cell_type": "code",
   "execution_count": 19,
   "metadata": {},
   "outputs": [],
   "source": [
    "def psi_1(traj: List[int]) -> bool: \n",
    "    \"\"\"Check if the first state of the trajectory is Browsing\"\"\"\n",
    "    return traj[0] == 0\n",
    "\n",
    "def psi_2(traj: List[int]) -> bool:\n",
    "    \"\"\"Check if there is a Conversion in the trajectory\"\"\"\n",
    "    return not (3 in traj)\n",
    "\n",
    "def psi_3(traj: List[int]) -> bool:\n",
    "    \"\"\"Check if the trajectory has at least one Abandoned state\"\"\"\n",
    "    return 4 in traj\n",
    "\n",
    "def psi(traj: List[int]) -> bool:\n",
    "    return psi_1(traj) and psi_2(traj) and psi_3(traj)"
   ]
  },
  {
   "cell_type": "code",
   "execution_count": 25,
   "metadata": {},
   "outputs": [
    {
     "name": "stdout",
     "output_type": "stream",
     "text": [
      "=== Trajectory: ===\n",
      "Step 0: Browsing\n",
      "Step 1: Engaged\n",
      "Step 2: Engaged\n",
      "Step 3: Converted\n",
      "Step 4: Converted\n",
      "\n",
      "=== Properties: ===\n",
      "psi_1: True\n",
      "psi_2: False\n",
      "psi_3: False\n",
      "psi: False\n"
     ]
    }
   ],
   "source": [
    "print(\"=== Trajectory: ===\")\n",
    "for i, x in enumerate(traj):\n",
    "    print(f\"Step {i}: {state_names[x]}\")\n",
    "print()\n",
    "\n",
    "print(\"=== Properties: ===\")\n",
    "print(f\"psi_1: {psi_1(traj)}\")\n",
    "print(f\"psi_2: {psi_2(traj)}\")\n",
    "print(f\"psi_3: {psi_3(traj)}\")\n",
    "print(f\"psi: {psi(traj)}\")"
   ]
  },
  {
   "cell_type": "code",
   "execution_count": 28,
   "metadata": {},
   "outputs": [
    {
     "name": "stdout",
     "output_type": "stream",
     "text": [
      "Probability of satisfying psi: 0.306\n"
     ]
    }
   ],
   "source": [
    "num_samples = 1000\n",
    "num_satisfying = 0\n",
    "for _ in range(num_samples):\n",
    "    traj = rollout(0, A)\n",
    "    if psi(traj):\n",
    "        num_satisfying += 1\n",
    "\n",
    "print(f\"Probability of satisfying psi: {num_satisfying / num_samples}\")"
   ]
  },
  {
   "cell_type": "code",
   "execution_count": null,
   "metadata": {},
   "outputs": [],
   "source": []
  }
 ],
 "metadata": {
  "kernelspec": {
   "display_name": "base",
   "language": "python",
   "name": "python3"
  },
  "language_info": {
   "codemirror_mode": {
    "name": "ipython",
    "version": 3
   },
   "file_extension": ".py",
   "mimetype": "text/x-python",
   "name": "python",
   "nbconvert_exporter": "python",
   "pygments_lexer": "ipython3",
   "version": "3.12.7"
  }
 },
 "nbformat": 4,
 "nbformat_minor": 2
}
