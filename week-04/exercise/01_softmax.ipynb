{
 "cells": [
  {
   "cell_type": "code",
   "execution_count": 5,
   "id": "initial_id",
   "metadata": {
    "ExecuteTime": {
     "end_time": "2024-01-23T10:01:14.975119Z",
     "start_time": "2024-01-23T10:01:14.967071Z"
    },
    "collapsed": true
   },
   "outputs": [],
   "source": [
    "import copy\n",
    "import matplotlib.pyplot as plt\n",
    "import numpy as np\n",
    "\n",
    "plt.style.use(\"seaborn-v0_8\")"
   ]
  },
  {
   "cell_type": "code",
   "execution_count": 6,
   "id": "d0d974846abdb6b5",
   "metadata": {
    "ExecuteTime": {
     "end_time": "2024-01-23T10:01:15.226097Z",
     "start_time": "2024-01-23T10:01:15.222972Z"
    },
    "collapsed": false
   },
   "outputs": [],
   "source": [
    "# Copying eps-greedy code from the previous notebook\n",
    "\n",
    "class Environment:\n",
    "    def __init__(self, thetas: [float]):\n",
    "        self.thetas = thetas\n",
    "\n",
    "\n",
    "class State:\n",
    "    def __init__(self, n_arms: int):\n",
    "        self.n_arms = n_arms\n",
    "        self.counts = np.zeros(n_arms)\n",
    "        self.thetas = np.zeros(n_arms)\n",
    "\n",
    "\n",
    "class EpsilonGreedy:\n",
    "    \"\"\"Epsilon-greedy policy\"\"\"\n",
    "\n",
    "    @classmethod\n",
    "    def get_arm(cls, state: State, eps: float = 0.1) -> int:\n",
    "        # Decide to either explore or exploit\n",
    "        if np.random.random() < eps:\n",
    "            arm = np.random.randint(state.n_arms)\n",
    "        else:\n",
    "            arm = np.argmax(state.thetas)\n",
    "        return arm\n",
    "\n",
    "\n",
    "class Oracle:\n",
    "    \"\"\"Oracle policy\"\"\"\n",
    "\n",
    "    @classmethod\n",
    "    def get_arm(cls, env: Environment) -> int:\n",
    "        return np.argmax(env.thetas)\n",
    "\n",
    "\n",
    "def react(env: Environment, arm: int) -> float:\n",
    "    if np.random.random() < env.thetas[arm]:\n",
    "        return 1.0\n",
    "    else:\n",
    "        return 0\n",
    "\n",
    "\n",
    "def update(state: State, arm: int, reward: float) -> State:\n",
    "    s = copy.deepcopy(state)\n",
    "    s.counts[arm] += 1\n",
    "    s.values[arm] = ((s.counts[arm] - 1) * s.values[arm] + reward) / s.counts[arm]\n",
    "    return s"
   ]
  },
  {
   "cell_type": "markdown",
   "id": "3bfaa229f6152e5",
   "metadata": {
    "collapsed": false
   },
   "source": [
    "# Q1. Implement softmax policy"
   ]
  },
  {
   "cell_type": "code",
   "execution_count": 7,
   "id": "97a43581bc7862e0",
   "metadata": {
    "ExecuteTime": {
     "end_time": "2024-01-23T10:01:16.073802Z",
     "start_time": "2024-01-23T10:01:16.071307Z"
    },
    "collapsed": false
   },
   "outputs": [],
   "source": [
    "class Softmax:\n",
    "    @classmethod\n",
    "    def get_arm(cls, state: State, tau: float = 0.10) -> int:\n",
    "        logit = state.thetas / tau\n",
    "        logit = logit - np.max(logit)\n",
    "        raise NotImplementedError(\"Implement this line\")  # p = ...\n",
    "        arm = np.random.choice(state.n_arms, p=p)\n",
    "        return arm"
   ]
  },
  {
   "cell_type": "markdown",
   "id": "cb58295ec7aa71c",
   "metadata": {
    "collapsed": false
   },
   "source": [
    "# Q2. Evaluate the Regrets"
   ]
  },
  {
   "cell_type": "code",
   "execution_count": 8,
   "id": "cbc59427c30db412",
   "metadata": {
    "ExecuteTime": {
     "end_time": "2024-01-23T10:01:17.120634Z",
     "start_time": "2024-01-23T10:01:17.091017Z"
    },
    "collapsed": false
   },
   "outputs": [
    {
     "ename": "NotImplementedError",
     "evalue": "Keep track of rewards here",
     "output_type": "error",
     "traceback": [
      "\u001b[0;31m---------------------------------------------------------------------------\u001b[0m",
      "\u001b[0;31mNotImplementedError\u001b[0m                       Traceback (most recent call last)",
      "Cell \u001b[0;32mIn[8], line 22\u001b[0m\n\u001b[1;32m     20\u001b[0m     eg_rewards\u001b[38;5;241m.\u001b[39mappend(reward)\n\u001b[1;32m     21\u001b[0m     eg_state \u001b[38;5;241m=\u001b[39m update(eg_state, arm, reward)\n\u001b[0;32m---> 22\u001b[0m     \u001b[38;5;28;01mraise\u001b[39;00m \u001b[38;5;167;01mNotImplementedError\u001b[39;00m(\u001b[38;5;124m\"\u001b[39m\u001b[38;5;124mKeep track of rewards here\u001b[39m\u001b[38;5;124m\"\u001b[39m)\n\u001b[1;32m     24\u001b[0m \u001b[38;5;66;03m# Softmax\u001b[39;00m\n\u001b[1;32m     25\u001b[0m sm_state \u001b[38;5;241m=\u001b[39m State(\u001b[38;5;28mlen\u001b[39m(thetas))\n",
      "\u001b[0;31mNotImplementedError\u001b[0m: Keep track of rewards here"
     ]
    }
   ],
   "source": [
    "import matplotlib.pyplot as plt\n",
    "\n",
    "thetas = [0.80, 0.50, 0.35, 0.60]\n",
    "env = Environment(thetas)\n",
    "num_trials = 1000\n",
    "\n",
    "# Oracle\n",
    "opt_rewards = []\n",
    "for i in range(num_trials):\n",
    "    arm = Oracle.get_arm(env)\n",
    "    reward = react(env, arm)\n",
    "    opt_rewards.append(reward)\n",
    "\n",
    "# Eps-greedy.\n",
    "eg_state = State(len(thetas))\n",
    "eg_rewards = []\n",
    "for i in range(num_trials):\n",
    "    arm = EpsilonGreedy.get_arm(eg_state)\n",
    "    reward = react(env, arm)\n",
    "    eg_rewards.append(reward)\n",
    "    eg_state = update(eg_state, arm, reward)\n",
    "    raise NotImplementedError(\"Keep track of rewards here\")\n",
    "\n",
    "# Softmax\n",
    "sm_state = State(len(thetas))\n",
    "sm_rewards = []\n",
    "for i in range(num_trials):\n",
    "    arm = Softmax.get_arm(sm_state)\n",
    "    reward = react(env, arm)\n",
    "    sm_rewards.append(reward)\n",
    "    sm_state = update(sm_state, arm, reward)\n",
    "    raise NotImplementedError(\"Keep track of rewards here\")\n",
    "\n",
    "# Calculate regrets\n",
    "raise NotImplementedError(\"Calculate regrets\")\n"
   ]
  },
  {
   "cell_type": "code",
   "execution_count": null,
   "id": "45280c6fc9ac9eae",
   "metadata": {
    "collapsed": false
   },
   "outputs": [],
   "source": []
  }
 ],
 "metadata": {
  "kernelspec": {
   "display_name": "Python 3",
   "language": "python",
   "name": "python3"
  },
  "language_info": {
   "codemirror_mode": {
    "name": "ipython",
    "version": 2
   },
   "file_extension": ".py",
   "mimetype": "text/x-python",
   "name": "python",
   "nbconvert_exporter": "python",
   "pygments_lexer": "ipython2",
   "version": "2.7.6"
  }
 },
 "nbformat": 4,
 "nbformat_minor": 5
}
