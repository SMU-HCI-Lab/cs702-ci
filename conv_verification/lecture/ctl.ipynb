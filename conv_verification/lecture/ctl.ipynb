{
 "cells": [
  {
   "cell_type": "code",
   "execution_count": 13,
   "id": "ed106aaa",
   "metadata": {},
   "outputs": [],
   "source": [
    "from pyModelChecking import CTL, Kripke\n",
    "from pyModelChecking.CTL.model_checking import modelcheck\n",
    "\n",
    "\n",
    "ks = Kripke(\n",
    "    S=[\"Browsing\", \"Engaged\", \"Disengaged\", \"Converted\", \"Abandoned\"],\n",
    "    S0=[\"Browsing\"],\n",
    "    R=[\n",
    "        (\"Browsing\", \"Browsing\"),\n",
    "        (\"Browsing\", \"Engaged\"),\n",
    "        (\"Browsing\", \"Disengaged\"),\n",
    "        (\"Browsing\", \"Abandoned\"),\n",
    "        (\"Engaged\", \"Engaged\"),\n",
    "        (\"Engaged\", \"Converted\"),\n",
    "        (\"Engaged\", \"Disengaged\"),\n",
    "        (\"Disengaged\", \"Disengaged\"),\n",
    "        (\"Disengaged\", \"Abandoned\"),\n",
    "        (\"Disenaged\", \"Browsing\"),\n",
    "        (\"Converted\", \"Converted\"),\n",
    "        (\"Abandoned\", \"Abandoned\"),\n",
    "    ],\n",
    "    L={\n",
    "        \"Browsing\": {\"Active\"},\n",
    "        \"Engaged\": {\"Active\", \"Interested\"},\n",
    "        \"Disengaged\": set(),\n",
    "        \"Converted\": {\"Active\", \"Interested\", \"Converted\"},\n",
    "        \"Abandoned\": set(),\n",
    "    },\n",
    ")"
   ]
  },
  {
   "cell_type": "code",
   "execution_count": 22,
   "id": "f1b2a65d",
   "metadata": {},
   "outputs": [
    {
     "name": "stdout",
     "output_type": "stream",
     "text": [
      "Formula `EF Converted` holds for initial state: True\n",
      "Formula `(Active --> AF Converted)` holds for initial state: False\n"
     ]
    }
   ],
   "source": [
    "# Create the CTL formula\n",
    "converted = CTL.AtomicProposition(\"Converted\")\n",
    "\n",
    "formula1 = CTL.EF(converted)\n",
    "\n",
    "# Check if the initial state satisfies the formula\n",
    "result1 = modelcheck(ks, formula1)\n",
    "print(f\"Formula `{formula1}` holds for initial state: {'Browsing' in result1}\")\n",
    "\n",
    "# Check if Active implies always eventually converted\n",
    "active = CTL.AtomicProposition(\"Active\")\n",
    "formula2 = CTL.Imply(active, CTL.AF(converted))\n",
    "result2 = modelcheck(ks, formula2)\n",
    "print(f\"Formula `{formula2}` holds for initial state: {'Browsing' in result2}\")\n"
   ]
  },
  {
   "cell_type": "code",
   "execution_count": 21,
   "id": "f27ee90f",
   "metadata": {},
   "outputs": [
    {
     "name": "stdout",
     "output_type": "stream",
     "text": [
      "{'Converted', 'Disenaged', 'Abandoned', 'Disengaged'}\n"
     ]
    }
   ],
   "source": [
    "print(result2)"
   ]
  },
  {
   "cell_type": "code",
   "execution_count": null,
   "id": "9f7f1458",
   "metadata": {},
   "outputs": [],
   "source": []
  }
 ],
 "metadata": {
  "kernelspec": {
   "display_name": "base",
   "language": "python",
   "name": "python3"
  },
  "language_info": {
   "codemirror_mode": {
    "name": "ipython",
    "version": 3
   },
   "file_extension": ".py",
   "mimetype": "text/x-python",
   "name": "python",
   "nbconvert_exporter": "python",
   "pygments_lexer": "ipython3",
   "version": "3.12.7"
  }
 },
 "nbformat": 4,
 "nbformat_minor": 5
}
