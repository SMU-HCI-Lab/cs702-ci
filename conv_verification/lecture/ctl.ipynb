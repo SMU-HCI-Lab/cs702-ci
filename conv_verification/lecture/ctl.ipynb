{
 "cells": [
  {
   "cell_type": "code",
   "execution_count": 5,
   "id": "ed106aaa",
   "metadata": {},
   "outputs": [
    {
     "name": "stdout",
     "output_type": "stream",
     "text": [
      "States where EF converted holds: {'Disengaged', 'Browsing', 'Converted', 'Disenaged', 'Engaged', 'Abandoned'}\n",
      "Formula holds for all states: True\n",
      "Formula holds for initial state (Browsing): True\n"
     ]
    }
   ],
   "source": [
    "from pyModelChecking import CTL, Kripke\n",
    "from pyModelChecking.CTL.model_checking import modelcheck\n",
    "\n",
    "# Define a Kripke Structure with self-loops for terminal states\n",
    "ks = Kripke(\n",
    "    S=[\"Browsing\", \"Engaged\", \"Disengaged\", \"Converted\", \"Abandoned\"],\n",
    "    S0=[\"Browsing\"],\n",
    "    R=[\n",
    "        (\"Browsing\", \"Browsing\"),\n",
    "        (\"Browsing\", \"Engaged\"),\n",
    "        (\"Browsing\", \"Disengaged\"),\n",
    "        (\"Browsing\", \"Abandoned\"),\n",
    "        (\"Engaged\", \"Engaged\"),\n",
    "        (\"Engaged\", \"Converted\"),\n",
    "        (\"Engaged\", \"Disengaged\"),\n",
    "        (\"Disengaged\", \"Disengaged\"),\n",
    "        (\"Disengaged\", \"Abandoned\"),\n",
    "        (\"Disenaged\", \"Browsing\"),\n",
    "        (\"Converted\", \"Converted\"),\n",
    "        (\"Converted\", \"Engaged\"),\n",
    "        (\"Converted\", \"Browsing\"),\n",
    "        (\"Abandoned\", \"Abandoned\"),\n",
    "        (\"Abandoned\", \"Browsing\"),\n",
    "    ],\n",
    "    L={\n",
    "        \"Browsing\": {\"Active\"},\n",
    "        \"Engaged\": {\"Active\", \"Interested\"},\n",
    "        \"Disengaged\": set(),\n",
    "        \"Converted\": {\"Active\", \"Interested\", \"Converted\"},\n",
    "        \"Abandoned\": set(),\n",
    "    },\n",
    ")\n",
    "\n",
    "# Create the CTL formula directly using constructors\n",
    "converted = CTL.AtomicProposition(\"Converted\")\n",
    "formula = CTL.EF(converted)\n",
    "\n",
    "# Use the modelcheck function to check the formula\n",
    "result = modelcheck(ks, formula)\n",
    "print(f\"States where EF converted holds: {result}\")\n",
    "\n",
    "# Check if the initial state satisfies the formula\n",
    "# If no initial state is specified, we can check if all states satisfy it\n",
    "print(f\"Formula holds for all states: {all(s in result for s in ks.states())}\")\n",
    "print(f\"Formula holds for initial state (Browsing): {'Browsing' in result}\")"
   ]
  },
  {
   "cell_type": "code",
   "execution_count": null,
   "id": "f1b2a65d",
   "metadata": {},
   "outputs": [],
   "source": []
  }
 ],
 "metadata": {
  "kernelspec": {
   "display_name": "base",
   "language": "python",
   "name": "python3"
  },
  "language_info": {
   "codemirror_mode": {
    "name": "ipython",
    "version": 3
   },
   "file_extension": ".py",
   "mimetype": "text/x-python",
   "name": "python",
   "nbconvert_exporter": "python",
   "pygments_lexer": "ipython3",
   "version": "3.12.7"
  }
 },
 "nbformat": 4,
 "nbformat_minor": 5
}
