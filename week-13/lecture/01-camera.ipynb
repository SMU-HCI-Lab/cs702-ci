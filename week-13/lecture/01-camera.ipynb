{
 "cells": [
  {
   "cell_type": "markdown",
   "source": [
    "# Projection matrix"
   ],
   "metadata": {
    "collapsed": false
   },
   "id": "bb99142b419b49e2"
  },
  {
   "cell_type": "code",
   "execution_count": 28,
   "id": "initial_id",
   "metadata": {
    "collapsed": true,
    "ExecuteTime": {
     "end_time": "2024-04-02T13:37:33.705304Z",
     "start_time": "2024-04-02T13:37:33.697380Z"
    }
   },
   "outputs": [
    {
     "name": "stdout",
     "output_type": "stream",
     "text": [
      "[[ 7.07106781e+02 -7.07106781e+02  5.00000000e+02  6.50000000e+04]\n",
      " [ 7.07106781e+02  7.07106781e+02  3.00000000e+02  4.90000000e+04]\n",
      " [ 0.00000000e+00  0.00000000e+00  1.00000000e+00  3.00000000e+01]]\n",
      "[2.16666667e+03 1.63333333e+03 1.00000000e+00]\n"
     ]
    }
   ],
   "source": [
    "import numpy as np\n",
    "\n",
    "\n",
    "def project_3d_to_2d(X: np.ndarray, P: np.ndarray) -> np.ndarray:\n",
    "    \"\"\"Project 3D points to 2D.\"\"\"\n",
    "    assert X.shape[0] == 4\n",
    "    assert P.shape == (3, 4)\n",
    "    x = np.dot(P, X)\n",
    "    return x / x[2]\n",
    "\n",
    "\n",
    "K = np.array([[1000., 0., 500.],\n",
    "              [0, 1000., 300.],\n",
    "              [0, 0, 1.]])\n",
    "# Rt = np.array([[1, 0, 0, 50],\n",
    "#                [0, 1, 0, 40],\n",
    "#                [0, 0, 1, 30]])\n",
    "Rt = np.array([[np.cos(np.pi / 4), -np.sin(np.pi / 4), 0, 50],\n",
    "               [np.sin(np.pi / 4), np.cos(np.pi / 4), 0, 40],\n",
    "               [0, 0, 1, 30]])\n",
    "P = K @ Rt\n",
    "\n",
    "print(P)\n",
    "\n",
    "x = project_3d_to_2d(np.array([0, 0, 0, 1]), P)\n",
    "print(x)\n",
    "# [2.16666667e+03 1.63333333e+03 1.00000000e+00]"
   ]
  },
  {
   "cell_type": "code",
   "outputs": [
    {
     "data": {
      "text/plain": "array([6.55000000e+04, 5.07142136e+04, 3.10000000e+01])"
     },
     "execution_count": 31,
     "metadata": {},
     "output_type": "execute_result"
    }
   ],
   "source": [
    "import numpy as np\n",
    "\n",
    "X1 = np.array([1, 1, 1, 1])\n",
    "X2 = np.array([1, 1, 1.5, 1])\n",
    "\n",
    "P @ X1"
   ],
   "metadata": {
    "collapsed": false,
    "ExecuteTime": {
     "end_time": "2024-04-02T13:38:31.411067Z",
     "start_time": "2024-04-02T13:38:31.406720Z"
    }
   },
   "id": "50ac1c8cf696b656",
   "execution_count": 31
  },
  {
   "cell_type": "code",
   "outputs": [
    {
     "data": {
      "text/plain": "array([6.57500000e+04, 5.08642136e+04, 3.15000000e+01])"
     },
     "execution_count": 32,
     "metadata": {},
     "output_type": "execute_result"
    }
   ],
   "source": [
    "P @ X2"
   ],
   "metadata": {
    "collapsed": false,
    "ExecuteTime": {
     "end_time": "2024-04-02T13:38:40.940523Z",
     "start_time": "2024-04-02T13:38:40.937327Z"
    }
   },
   "id": "75a56d48b2e98a68",
   "execution_count": 32
  },
  {
   "cell_type": "markdown",
   "source": [
    "# Camera Center"
   ],
   "metadata": {
    "collapsed": false
   },
   "id": "d0d5a6ee3a27453"
  },
  {
   "cell_type": "code",
   "outputs": [
    {
     "name": "stdout",
     "output_type": "stream",
     "text": [
      "K = K_: True\n",
      "R = R_: True\n"
     ]
    }
   ],
   "source": [
    "import scipy.linalg as linalg\n",
    "from typing import Tuple\n",
    "\n",
    "\n",
    "def factor_camera_matrix(P: np.ndarray) -> Tuple[np.ndarray, np.ndarray, np.ndarray]:\n",
    "    \"\"\"Factorize the camera matrix into K, R, t.\"\"\"\n",
    "    K, R = linalg.rq(P[:, :3])\n",
    "\n",
    "    # Make sure R has positive determinant\n",
    "    T = np.diag(np.sign(np.diag(K)))\n",
    "    K = np.dot(K, T)\n",
    "    R = np.dot(T, R)\n",
    "\n",
    "    t = np.dot(linalg.inv(K), P[:, 3])\n",
    "    return K, R, t\n",
    "\n",
    "\n",
    "def camera_center(P: np.ndarray) -> np.ndarray:\n",
    "    \"\"\"Compute the camera center from the projection matrix.\"\"\"\n",
    "    K, R, t = factor_camera_matrix(P)\n",
    "    c = -np.dot(R.T, t)\n",
    "    return c\n",
    "\n",
    "\n",
    "K_, R_, t_ = factor_camera_matrix(P)\n",
    "\n",
    "print(f\"K = K_: {np.allclose(K_, K)}\")\n",
    "print(f\"R = R_: {np.allclose(R_, Rt[:, :3])}\")"
   ],
   "metadata": {
    "collapsed": false,
    "ExecuteTime": {
     "end_time": "2024-04-02T13:37:31.665931Z",
     "start_time": "2024-04-02T13:37:30.698292Z"
    }
   },
   "id": "8e3629b0d963004d",
   "execution_count": 27
  },
  {
   "cell_type": "markdown",
   "source": [
    "# Fundamental matrix"
   ],
   "metadata": {
    "collapsed": false
   },
   "id": "10657c0b06f50398"
  },
  {
   "cell_type": "code",
   "outputs": [],
   "source": [
    "def compute_fundamental(x1: np.ndarray, x2: np.ndarray) -> np.ndarray:\n",
    "    \"\"\"Computes the fundamental matrix from corresponding \n",
    "\tpoints using the normalized 8 point algorithm. \n",
    "\tImplementation by Solem 2012.\"\"\"\n",
    "    assert x1.shape[1] == x2.shape[1]\n",
    "\n",
    "    n = x1.shape[1]\n",
    "    A = np.zeros((n, 9))\n",
    "    for i in range(n):\n",
    "        A[i] = [\n",
    "            x1[0, i] * x2[0, i],\n",
    "            x1[0, i] * x2[1, i],\n",
    "            x1[0, i] * x2[2, i],\n",
    "            x1[1, i] * x2[0, i],\n",
    "            x1[1, i] * x2[1, i],\n",
    "            x1[1, i] * x2[2, i],\n",
    "            x1[2, i] * x2[0, i],\n",
    "            x1[2, i] * x2[1, i],\n",
    "            x1[2, i] * x2[2, i]\n",
    "        ]\n",
    "    # Get the singular vector with the smallest singular value\n",
    "    U, S, V = linalg.svd(A)\n",
    "    F = V[-1].reshape(3, 3)  # Reshape a vector to 3x3 matrix\n",
    "\n",
    "    # Forcing the F to be rank 2.\n",
    "    U, S, V = linalg.svd(F)\n",
    "    S[2] = 0\n",
    "    F = np.dot(U, np.dot(np.diag(S), V))\n",
    "    return F"
   ],
   "metadata": {
    "collapsed": false
   },
   "id": "51cb8d4c1cab570a"
  },
  {
   "cell_type": "code",
   "outputs": [],
   "source": [
    "A = np.array([[1, 2, 3], [4, 5, 6], [7, 8, 9]])\n",
    "\n",
    "U, S, V = linalg.svd(A)"
   ],
   "metadata": {
    "collapsed": false,
    "ExecuteTime": {
     "end_time": "2024-03-21T14:54:12.591619Z",
     "start_time": "2024-03-21T14:54:12.585127Z"
    }
   },
   "id": "22922e1f1674ac7d",
   "execution_count": 7
  },
  {
   "cell_type": "code",
   "outputs": [
    {
     "name": "stdout",
     "output_type": "stream",
     "text": [
      "[[-0.21483724  0.88723069  0.40824829]\n",
      " [-0.52058739  0.24964395 -0.81649658]\n",
      " [-0.82633754 -0.38794278  0.40824829]]\n"
     ]
    }
   ],
   "source": [
    "print(U)"
   ],
   "metadata": {
    "collapsed": false,
    "ExecuteTime": {
     "end_time": "2024-03-21T14:54:16.060759Z",
     "start_time": "2024-03-21T14:54:16.057329Z"
    }
   },
   "id": "a1588668915a5c77",
   "execution_count": 8
  },
  {
   "cell_type": "code",
   "outputs": [],
   "source": [],
   "metadata": {
    "collapsed": false
   },
   "id": "31f8838074b358e1"
  }
 ],
 "metadata": {
  "kernelspec": {
   "display_name": "Python 3",
   "language": "python",
   "name": "python3"
  },
  "language_info": {
   "codemirror_mode": {
    "name": "ipython",
    "version": 2
   },
   "file_extension": ".py",
   "mimetype": "text/x-python",
   "name": "python",
   "nbconvert_exporter": "python",
   "pygments_lexer": "ipython2",
   "version": "2.7.6"
  }
 },
 "nbformat": 4,
 "nbformat_minor": 5
}
